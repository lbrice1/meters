{
 "cells": [
  {
   "cell_type": "code",
   "execution_count": 8,
   "metadata": {},
   "outputs": [],
   "source": [
    "import pandas as pd\n",
    "\n",
    "\n",
    "class DataPreprocessing():\n",
    "    def __init__(self):\n",
    "        pass\n",
    "\n",
    "    def load_data(self, path):\n",
    "        data = pd.read_csv(path, sep=\"\\t\", header=None).dropna()\n",
    "\n",
    "        print(data.head())\n",
    "\n",
    "        data = data.to_numpy()\n",
    "\n",
    "        return data"
   ]
  },
  {
   "cell_type": "code",
   "execution_count": 6,
   "metadata": {},
   "outputs": [],
   "source": [
    "#import sys\n",
    "#import os\n",
    "\n",
    "#os.chdir(\"../\")\n",
    "\n",
    "#os.getcwd()"
   ]
  },
  {
   "cell_type": "code",
   "execution_count": 10,
   "metadata": {},
   "outputs": [],
   "source": [
    "from sklearn.tree import DecisionTreeClassifier\n",
    "import numpy as np\n",
    "from sklearn.metrics import accuracy_score\n",
    "from sklearn.neural_network import MLPClassifier\n",
    "from sklearn.datasets import make_classification\n",
    "\n",
    "from source.data_preprocess import DataPreprocessing\n",
    "\n",
    "\n",
    "class ModelBuilder(DataPreprocessing):\n",
    "    def __init__(self, *args, **kwargs):\n",
    "        super(ModelBuilder, self).__init__(*args, **kwargs)\n",
    "    \n",
    "    def dt(self, X_train, X_test, Y_train, Y_test):\n",
    "        DT_classifier = MLPClassifier(hidden_layer_sizes=(100,), learning_rate_init=0.001, random_state=1, max_iter=1000)\n",
    "\n",
    "        DT_classifier.fit(X = X_train, y = Y_train)\n",
    "\n",
    "        DT_predicted = DT_classifier.predict(X_test)\n",
    "        \n",
    "        DT_classifier.score(X_test, Y_test)\n",
    "        \n",
    "        error = 0\n",
    "        for i in range(len(Y_test)):\n",
    "            error += np.sum(DT_predicted != Y_test)\n",
    "\n",
    "        total_accuracy = 1 - error / len(Y_test)\n",
    "\n",
    "        #get performance\n",
    "        self.accuracy = accuracy_score(Y_test, DT_predicted)\n",
    "\n",
    "        return DT_classifier\n"
   ]
  },
  {
   "cell_type": "code",
   "execution_count": 7,
   "metadata": {},
   "outputs": [],
   "source": [
    "from sklearn.tree import DecisionTreeClassifier\n",
    "import numpy as np\n",
    "from sklearn.metrics import accuracy_score\n",
    "\n",
    "\n",
    "from source.data_preprocess import DataPreprocessing\n",
    "\n",
    "\n",
    "\n",
    "class ModelBuilder(DataPreprocessing):\n",
    "    def __init__(self, *args, **kwargs):\n",
    "        super(ModelBuilder, self).__init__(*args, **kwargs)\n",
    "\n",
    "    def dt(self, X_train, X_test, y_train, y_test):\n",
    "        #Create DT model\n",
    "        DT_classifier = DecisionTreeClassifier()\n",
    "\n",
    "        #Train the model\n",
    "        DT_classifier.fit(X_train, y_train)\n",
    "\n",
    "        #Test the model\n",
    "        DT_predicted = DT_classifier.predict(X_test)\n",
    "\n",
    "        error = 0\n",
    "        for i in range(len(y_test)):\n",
    "            error += np.sum(DT_predicted != y_test)\n",
    "\n",
    "        total_accuracy = 1 - error / len(y_test)\n",
    "\n",
    "        #get performance\n",
    "        self.accuracy = accuracy_score(y_test, DT_predicted)\n",
    "\n",
    "        return DT_classifier"
   ]
  }
 ],
 "metadata": {
  "kernelspec": {
   "display_name": "base",
   "language": "python",
   "name": "python3"
  },
  "language_info": {
   "codemirror_mode": {
    "name": "ipython",
    "version": 3
   },
   "file_extension": ".py",
   "mimetype": "text/x-python",
   "name": "python",
   "nbconvert_exporter": "python",
   "pygments_lexer": "ipython3",
   "version": "3.9.13"
  },
  "orig_nbformat": 4,
  "vscode": {
   "interpreter": {
    "hash": "8563f0f57165ee3e4dc81d40e83af639e0044784c5d5839040af53f9fd98917c"
   }
  }
 },
 "nbformat": 4,
 "nbformat_minor": 2
}
